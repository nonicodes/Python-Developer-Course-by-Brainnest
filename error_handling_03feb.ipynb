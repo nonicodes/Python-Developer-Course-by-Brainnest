{
 "cells": [
  {
   "attachments": {},
   "cell_type": "markdown",
   "metadata": {},
   "source": [
    "1. Write a function that takes a list of integers as an argument, and returns the sum of the integers. Use a try-except block to catch any ValueError exceptions that may be raised when attempting to convert a string to an integer."
   ]
  },
  {
   "cell_type": "code",
   "execution_count": null,
   "metadata": {},
   "outputs": [],
   "source": [
    "def sum_of_integers(int_list):\n",
    "     result = 0\n",
    "     for i in int_list:\n",
    "         try:\n",
    "             result += int(i)\n",
    "         except ValueError:\n",
    "             pass\n",
    "     return result\n",
    "int_list = [1, 2, 3, \"4\", \"five\", 6]\n",
    "result = sum_of_integers(int_list)\n",
    "print(result)"
   ]
  },
  {
   "attachments": {},
   "cell_type": "markdown",
   "metadata": {},
   "source": [
    "2. Write a function that takes a filename as an argument, and attempts to open the file. Use a try-except block to catch any FileNotFoundError exceptions that may be raised when attempting to open the file. If the file is successfully opened, the function should return the contents of the file."
   ]
  },
  {
   "cell_type": "code",
   "execution_count": null,
   "metadata": {},
   "outputs": [],
   "source": [
    "def read_file(filename):\n",
    "    try:\n",
    "        with open(filename, \"r\") as file:\n",
    "            contents = file.read()\n",
    "        return contents\n",
    "    except FileNotFoundError:\n",
    "        return \"File not found.\""
   ]
  },
  {
   "attachments": {},
   "cell_type": "markdown",
   "metadata": {},
   "source": [
    "3. Write a function that takes a list of strings as an argument, and returns a new list containing only the strings that can be successfully converted to a float. Use a try-except block to catch any ValueError exceptions that may be raised when attempting to convert a string to a float."
   ]
  },
  {
   "cell_type": "code",
   "execution_count": null,
   "metadata": {},
   "outputs": [],
   "source": [
    "def only_floats(string_list):\n",
    "    float_list = []\n",
    "    for i in string_list:\n",
    "        try:\n",
    "            float_list.append(float(i))\n",
    "        except ValueError:\n",
    "            pass\n",
    "    return float_list\n",
    "\n",
    "input_list = [\"1.0\", \"2.3\", \"3.14\", \"hello\", \"4.0\"]\n",
    "output = only_floats(input_list)\n",
    "print(output)"
   ]
  },
  {
   "attachments": {},
   "cell_type": "markdown",
   "metadata": {},
   "source": [
    "4. Write a function that takes a list of dictionaries as an argument, and returns the value of a specified key from each dictionary. Use a try-except block to catch any KeyError exceptions that may be raised when attempting to access a key that does not exist in a dictionary."
   ]
  },
  {
   "cell_type": "code",
   "execution_count": null,
   "metadata": {},
   "outputs": [],
   "source": [
    "def extract_values(dictionary_list, key):\n",
    "    values = []\n",
    "    for dictionary in dictionary_list:\n",
    "        try:\n",
    "            value = dictionary[key]\n",
    "            values.append(value)\n",
    "        except KeyError:\n",
    "            pass\n",
    "    return values\n",
    "\n",
    "dictionary_list = [{\"name\": \"John\", \"age\": 32}, {\"name\": \"Jane\", \"age\": 27}, {\"city\": \"New York\"}]\n",
    "key = \"age\"\n",
    "values = extract_values(dictionary_list, key)\n",
    "print(values)"
   ]
  },
  {
   "attachments": {},
   "cell_type": "markdown",
   "metadata": {},
   "source": [
    "5. Write a function that takes a list of integers as an argument, and returns the largest integer in the list. Use a try-except block to catch any ValueError exceptions that may be raised when attempting to compare elements that are not integers."
   ]
  },
  {
   "cell_type": "code",
   "execution_count": null,
   "metadata": {},
   "outputs": [],
   "source": [
    "def find_largest(int_list):\n",
    "    largest = 0\n",
    "    for i in int_list:\n",
    "        try:\n",
    "            if int(i) > largest:\n",
    "                largest = int(i)\n",
    "        except ValueError:\n",
    "            pass\n",
    "    return largest\n",
    "\n",
    "int_list = [1, 2, 3, \"4\", \"five\", 6]\n",
    "largest = find_largest(int_list)\n",
    "print(largest)"
   ]
  }
 ],
 "metadata": {
  "kernelspec": {
   "display_name": "Python 3.11.1 64-bit",
   "language": "python",
   "name": "python3"
  },
  "language_info": {
   "name": "python",
   "version": "3.11.1 (tags/v3.11.1:a7a450f, Dec  6 2022, 19:58:39) [MSC v.1934 64 bit (AMD64)]"
  },
  "orig_nbformat": 4,
  "vscode": {
   "interpreter": {
    "hash": "72b2382ece9768098284d92bbc69d35954e75b60d1e25897d1389c232f4796f0"
   }
  }
 },
 "nbformat": 4,
 "nbformat_minor": 2
}
